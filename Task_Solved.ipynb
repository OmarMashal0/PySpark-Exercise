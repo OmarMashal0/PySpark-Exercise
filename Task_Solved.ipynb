{
 "cells": [
  {
   "cell_type": "code",
   "execution_count": 6,
   "metadata": {},
   "outputs": [],
   "source": [
    "from pyspark.sql import SparkSession\n",
    "from pyspark.sql import Row\n",
    "import  pyspark.sql.functions as fun \n",
    "import numpy as np\n",
    "from pyspark.sql.types import *"
   ]
  },
  {
   "cell_type": "code",
   "execution_count": 5,
   "metadata": {},
   "outputs": [],
   "source": [
    "spark = SparkSession.builder.getOrCreate()"
   ]
  },
  {
   "cell_type": "code",
   "execution_count": 4,
   "metadata": {},
   "outputs": [],
   "source": [
    "sc = spark.sparkContext"
   ]
  },
  {
   "cell_type": "markdown",
   "metadata": {},
   "source": [
    "Create an RDD from a list of numbers (1,50) using numpy methods"
   ]
  },
  {
   "cell_type": "code",
   "execution_count": 13,
   "metadata": {},
   "outputs": [
    {
     "data": {
      "text/plain": [
       "[1,\n",
       " 2,\n",
       " 3,\n",
       " 4,\n",
       " 5,\n",
       " 6,\n",
       " 7,\n",
       " 8,\n",
       " 9,\n",
       " 10,\n",
       " 11,\n",
       " 12,\n",
       " 13,\n",
       " 14,\n",
       " 15,\n",
       " 16,\n",
       " 17,\n",
       " 18,\n",
       " 19,\n",
       " 20,\n",
       " 21,\n",
       " 22,\n",
       " 23,\n",
       " 24,\n",
       " 25,\n",
       " 26,\n",
       " 27,\n",
       " 28,\n",
       " 29,\n",
       " 30,\n",
       " 31,\n",
       " 32,\n",
       " 33,\n",
       " 34,\n",
       " 35,\n",
       " 36,\n",
       " 37,\n",
       " 38,\n",
       " 39,\n",
       " 40,\n",
       " 41,\n",
       " 42,\n",
       " 43,\n",
       " 44,\n",
       " 45,\n",
       " 46,\n",
       " 47,\n",
       " 48,\n",
       " 49]"
      ]
     },
     "execution_count": 13,
     "metadata": {},
     "output_type": "execute_result"
    }
   ],
   "source": [
    "rdd1 = sc.parallelize(np.arange(1, 50))\n",
    "rdd1.collect()"
   ]
  },
  {
   "cell_type": "markdown",
   "metadata": {},
   "source": [
    "Find the sum, average, maximum, minimum, and count"
   ]
  },
  {
   "cell_type": "code",
   "execution_count": 17,
   "metadata": {},
   "outputs": [
    {
     "data": {
      "text/plain": [
       "1225"
      ]
     },
     "execution_count": 17,
     "metadata": {},
     "output_type": "execute_result"
    }
   ],
   "source": [
    "#Sum\n",
    "sum_rdd = rdd1.sum()\n",
    "sum_rdd"
   ]
  },
  {
   "cell_type": "code",
   "execution_count": 19,
   "metadata": {},
   "outputs": [
    {
     "data": {
      "text/plain": [
       "25.0"
      ]
     },
     "execution_count": 19,
     "metadata": {},
     "output_type": "execute_result"
    }
   ],
   "source": [
    "#avg\n",
    "avg_rdd = rdd1.mean()\n",
    "avg_rdd"
   ]
  },
  {
   "cell_type": "code",
   "execution_count": 20,
   "metadata": {},
   "outputs": [
    {
     "data": {
      "text/plain": [
       "49"
      ]
     },
     "execution_count": 20,
     "metadata": {},
     "output_type": "execute_result"
    }
   ],
   "source": [
    "#Count\n",
    "count_rdd = rdd1.count()\n",
    "count_rdd"
   ]
  },
  {
   "cell_type": "code",
   "execution_count": 21,
   "metadata": {},
   "outputs": [
    {
     "data": {
      "text/plain": [
       "1"
      ]
     },
     "execution_count": 21,
     "metadata": {},
     "output_type": "execute_result"
    }
   ],
   "source": [
    "#Min\n",
    "min_rdd = rdd1.min()\n",
    "min_rdd"
   ]
  },
  {
   "cell_type": "code",
   "execution_count": 22,
   "metadata": {},
   "outputs": [
    {
     "data": {
      "text/plain": [
       "49"
      ]
     },
     "execution_count": 22,
     "metadata": {},
     "output_type": "execute_result"
    }
   ],
   "source": [
    "#Max\n",
    "max_rdd = rdd1.max()\n",
    "max_rdd"
   ]
  },
  {
   "cell_type": "markdown",
   "metadata": {},
   "source": [
    "Count how many numbers are even vs. odd."
   ]
  },
  {
   "cell_type": "code",
   "execution_count": 24,
   "metadata": {},
   "outputs": [
    {
     "name": "stdout",
     "output_type": "stream",
     "text": [
      "Even count: 24, Odd count: 25\n"
     ]
    }
   ],
   "source": [
    "even_count = rdd1.filter(lambda x : x % 2 == 0).count()\n",
    "odd_count = rdd1.count() - even_count\n",
    "even_count, odd_count\n",
    "print(f\"Even count: {even_count}, Odd count: {odd_count}\")"
   ]
  },
  {
   "cell_type": "markdown",
   "metadata": {},
   "source": [
    "You have the following data of people info ('Name', 'Age'), answer the following questions"
   ]
  },
  {
   "cell_type": "code",
   "execution_count": 26,
   "metadata": {},
   "outputs": [
    {
     "data": {
      "text/plain": [
       "[('Nada ', 25),\n",
       " ('Mona', 30),\n",
       " ('Ahmed', 35),\n",
       " ('Khaled', 40),\n",
       " ('Ahmed', 35),\n",
       " ('Nada ', 25)]"
      ]
     },
     "execution_count": 26,
     "metadata": {},
     "output_type": "execute_result"
    }
   ],
   "source": [
    "people_data = [(\"Nada \", 25), (\"Mona\", 30), (\"Ahmed\", 35), (\"Khaled\", 40),(\"Ahmed\", 35), ('Nada ', 25)]\n",
    "rdd_people = sc.parallelize(people_data)\n",
    "rdd_people.collect()"
   ]
  },
  {
   "cell_type": "markdown",
   "metadata": {},
   "source": [
    "Find the oldest person"
   ]
  },
  {
   "cell_type": "code",
   "execution_count": 29,
   "metadata": {},
   "outputs": [
    {
     "data": {
      "text/plain": [
       "[('Khaled', 40)]"
      ]
     },
     "execution_count": 29,
     "metadata": {},
     "output_type": "execute_result"
    }
   ],
   "source": [
    "max_age = rdd_people.map(lambda x: x[1]).max()\n",
    "oldest_person = rdd_people.filter(lambda x : x[1] == max_age).collect()\n",
    "oldest_person"
   ]
  },
  {
   "cell_type": "markdown",
   "metadata": {},
   "source": [
    "Compute the average age"
   ]
  },
  {
   "cell_type": "code",
   "execution_count": 31,
   "metadata": {},
   "outputs": [
    {
     "data": {
      "text/plain": [
       "31.666666666666668"
      ]
     },
     "execution_count": 31,
     "metadata": {},
     "output_type": "execute_result"
    }
   ],
   "source": [
    "avg_age = rdd_people.map(lambda x: x[1]).mean()\n",
    "avg_age"
   ]
  },
  {
   "cell_type": "markdown",
   "metadata": {},
   "source": [
    "Group all the names by their age"
   ]
  },
  {
   "cell_type": "code",
   "execution_count": 35,
   "metadata": {},
   "outputs": [
    {
     "data": {
      "text/plain": [
       "[(40, [('Khaled', 40)]),\n",
       " (25, [('Nada ', 25), ('Nada ', 25)]),\n",
       " (35, [('Ahmed', 35), ('Ahmed', 35)]),\n",
       " (30, [('Mona', 30)])]"
      ]
     },
     "execution_count": 35,
     "metadata": {},
     "output_type": "execute_result"
    }
   ],
   "source": [
    "grouped_by_age = rdd_people.groupBy(lambda x: x[1]).mapValues(list).collect()\n",
    "grouped_by_age"
   ]
  },
  {
   "cell_type": "markdown",
   "metadata": {},
   "source": [
    "Take the following text and put it in a text file named russia.txt and load it into rdd\n",
    "\n",
    "\"Russia is the largest country in the world by land area\n",
    "Moscow is the capital city of Russia\n",
    "The Russian language is one of the most widely spoken languages in the world\n",
    "Russia is known for its rich history and culture\n",
    "The Trans-Siberian Railway is the longest railway line in the world\n",
    "Russia has a strong tradition in literature, music and ballet\n",
    "The country is famous for its cold winters and vast landscapes\n",
    "Russia is a major player in global energy production\n",
    "\""
   ]
  },
  {
   "cell_type": "code",
   "execution_count": null,
   "metadata": {},
   "outputs": [
    {
     "data": {
      "text/plain": [
       "['Russia is the largest country in the world by land area',\n",
       " 'Moscow is the capital city of Russia',\n",
       " 'The Russian language is one of the most widely spoken languages in the world',\n",
       " 'Russia is known for its rich history and culture',\n",
       " 'The Trans-Siberian Railway is the longest railway line in the world',\n",
       " 'Russia has a strong tradition in literature, music and ballet',\n",
       " 'The country is famous for its cold winters and vast landscapes',\n",
       " 'Russia is a major player in global energy production']"
      ]
     },
     "execution_count": 49,
     "metadata": {},
     "output_type": "execute_result"
    }
   ],
   "source": [
    "rdd_russia = sc.textFile(\"/shared/russia.txt\")\n",
    "rdd_russia.collect()"
   ]
  },
  {
   "cell_type": "markdown",
   "metadata": {},
   "source": [
    "Count the total number of lines."
   ]
  },
  {
   "cell_type": "code",
   "execution_count": 50,
   "metadata": {},
   "outputs": [
    {
     "data": {
      "text/plain": [
       "8"
      ]
     },
     "execution_count": 50,
     "metadata": {},
     "output_type": "execute_result"
    }
   ],
   "source": [
    "count_lines = rdd_russia.count()\n",
    "count_lines"
   ]
  },
  {
   "cell_type": "markdown",
   "metadata": {},
   "source": [
    "Count how many lines contain the word \"Russia\""
   ]
  },
  {
   "cell_type": "code",
   "execution_count": 55,
   "metadata": {},
   "outputs": [
    {
     "data": {
      "text/plain": [
       "5"
      ]
     },
     "execution_count": 55,
     "metadata": {},
     "output_type": "execute_result"
    }
   ],
   "source": [
    "count_russia = rdd_russia.flatMap(lambda x: x.split(\" \")).filter(lambda x: x == \"Russia\").count()\n",
    "count_russia"
   ]
  },
  {
   "cell_type": "markdown",
   "metadata": {},
   "source": [
    "Find the most 5 frequent word in the file."
   ]
  },
  {
   "cell_type": "code",
   "execution_count": 60,
   "metadata": {},
   "outputs": [
    {
     "data": {
      "text/plain": [
       "[('is', 7), ('the', 7), ('Russia', 5), ('in', 5), ('world', 3)]"
      ]
     },
     "execution_count": 60,
     "metadata": {},
     "output_type": "execute_result"
    }
   ],
   "source": [
    "most_frequent_word = rdd_russia.flatMap(lambda x: x.split(\" \")) \\\n",
    "    .map(lambda x: (x, 1)) \\\n",
    "    .reduceByKey(lambda a, b: a + b) \\\n",
    "    .sortBy(lambda x: x[1], ascending=False) \\\n",
    "    .take(5)\n",
    "most_frequent_word"
   ]
  },
  {
   "cell_type": "markdown",
   "metadata": {},
   "source": [
    "Tokenize words"
   ]
  },
  {
   "cell_type": "code",
   "execution_count": 63,
   "metadata": {},
   "outputs": [
    {
     "data": {
      "text/plain": [
       "['Russia',\n",
       " 'is',\n",
       " 'the',\n",
       " 'largest',\n",
       " 'country',\n",
       " 'in',\n",
       " 'the',\n",
       " 'world',\n",
       " 'by',\n",
       " 'land',\n",
       " 'area',\n",
       " 'Moscow',\n",
       " 'is',\n",
       " 'the',\n",
       " 'capital',\n",
       " 'city',\n",
       " 'of',\n",
       " 'Russia',\n",
       " 'The',\n",
       " 'Russian',\n",
       " 'language',\n",
       " 'is',\n",
       " 'one',\n",
       " 'of',\n",
       " 'the',\n",
       " 'most',\n",
       " 'widely',\n",
       " 'spoken',\n",
       " 'languages',\n",
       " 'in',\n",
       " 'the',\n",
       " 'world',\n",
       " 'Russia',\n",
       " 'is',\n",
       " 'known',\n",
       " 'for',\n",
       " 'its',\n",
       " 'rich',\n",
       " 'history',\n",
       " 'and',\n",
       " 'culture',\n",
       " 'The',\n",
       " 'Trans-Siberian',\n",
       " 'Railway',\n",
       " 'is',\n",
       " 'the',\n",
       " 'longest',\n",
       " 'railway',\n",
       " 'line',\n",
       " 'in',\n",
       " 'the',\n",
       " 'world',\n",
       " 'Russia',\n",
       " 'has',\n",
       " 'a',\n",
       " 'strong',\n",
       " 'tradition',\n",
       " 'in',\n",
       " 'literature,',\n",
       " 'music',\n",
       " 'and',\n",
       " 'ballet',\n",
       " 'The',\n",
       " 'country',\n",
       " 'is',\n",
       " 'famous',\n",
       " 'for',\n",
       " 'its',\n",
       " 'cold',\n",
       " 'winters',\n",
       " 'and',\n",
       " 'vast',\n",
       " 'landscapes',\n",
       " 'Russia',\n",
       " 'is',\n",
       " 'a',\n",
       " 'major',\n",
       " 'player',\n",
       " 'in',\n",
       " 'global',\n",
       " 'energy',\n",
       " 'production']"
      ]
     },
     "execution_count": 63,
     "metadata": {},
     "output_type": "execute_result"
    }
   ],
   "source": [
    "tokens = rdd_russia.flatMap(lambda x : x.split(\" \")).collect()\n",
    "tokens"
   ]
  },
  {
   "cell_type": "markdown",
   "metadata": {},
   "source": [
    "Remove stopwords (a, the, is, to, in, of). "
   ]
  },
  {
   "cell_type": "code",
   "execution_count": 64,
   "metadata": {},
   "outputs": [
    {
     "data": {
      "text/plain": [
       "['Russia',\n",
       " 'largest',\n",
       " 'country',\n",
       " 'world',\n",
       " 'by',\n",
       " 'land',\n",
       " 'area',\n",
       " 'Moscow',\n",
       " 'capital',\n",
       " 'city',\n",
       " 'Russia',\n",
       " 'The',\n",
       " 'Russian',\n",
       " 'language',\n",
       " 'one',\n",
       " 'most',\n",
       " 'widely',\n",
       " 'spoken',\n",
       " 'languages',\n",
       " 'world',\n",
       " 'Russia',\n",
       " 'known',\n",
       " 'for',\n",
       " 'its',\n",
       " 'rich',\n",
       " 'history',\n",
       " 'and',\n",
       " 'culture',\n",
       " 'The',\n",
       " 'Trans-Siberian',\n",
       " 'Railway',\n",
       " 'longest',\n",
       " 'railway',\n",
       " 'line',\n",
       " 'world',\n",
       " 'Russia',\n",
       " 'has',\n",
       " 'strong',\n",
       " 'tradition',\n",
       " 'literature,',\n",
       " 'music',\n",
       " 'and',\n",
       " 'ballet',\n",
       " 'The',\n",
       " 'country',\n",
       " 'famous',\n",
       " 'for',\n",
       " 'its',\n",
       " 'cold',\n",
       " 'winters',\n",
       " 'and',\n",
       " 'vast',\n",
       " 'landscapes',\n",
       " 'Russia',\n",
       " 'major',\n",
       " 'player',\n",
       " 'global',\n",
       " 'energy',\n",
       " 'production']"
      ]
     },
     "execution_count": 64,
     "metadata": {},
     "output_type": "execute_result"
    }
   ],
   "source": [
    "stopwords = [\"is\", \"the\", \"in\", \"a\", \"of\"]\n",
    "filtered_tokens = rdd_russia.flatMap(lambda x : x.split(\" \")) \\\n",
    "    .filter(lambda x : x not in stopwords) \\\n",
    "    .collect() \n",
    "filtered_tokens"
   ]
  },
  {
   "cell_type": "markdown",
   "metadata": {},
   "source": [
    "Count the frequency of each word"
   ]
  },
  {
   "cell_type": "code",
   "execution_count": 66,
   "metadata": {},
   "outputs": [
    {
     "data": {
      "text/plain": [
       "[('largest', 1),\n",
       " ('by', 1),\n",
       " ('land', 1),\n",
       " ('area', 1),\n",
       " ('capital', 1),\n",
       " ('language', 1),\n",
       " ('most', 1),\n",
       " ('widely', 1),\n",
       " ('known', 1),\n",
       " ('history', 1),\n",
       " ('Trans-Siberian', 1),\n",
       " ('Railway', 1),\n",
       " ('line', 1),\n",
       " ('literature,', 1),\n",
       " ('music', 1),\n",
       " ('famous', 1),\n",
       " ('cold', 1),\n",
       " ('winters', 1),\n",
       " ('landscapes', 1),\n",
       " ('player', 1),\n",
       " ('energy', 1),\n",
       " ('production', 1),\n",
       " ('Moscow', 1),\n",
       " ('city', 1),\n",
       " ('Russian', 1),\n",
       " ('one', 1),\n",
       " ('spoken', 1),\n",
       " ('languages', 1),\n",
       " ('rich', 1),\n",
       " ('culture', 1),\n",
       " ('longest', 1),\n",
       " ('railway', 1),\n",
       " ('has', 1),\n",
       " ('strong', 1),\n",
       " ('tradition', 1),\n",
       " ('ballet', 1),\n",
       " ('vast', 1),\n",
       " ('major', 1),\n",
       " ('global', 1),\n",
       " ('country', 2),\n",
       " ('of', 2),\n",
       " ('for', 2),\n",
       " ('its', 2),\n",
       " ('a', 2),\n",
       " ('world', 3),\n",
       " ('and', 3),\n",
       " ('The', 3),\n",
       " ('Russia', 5),\n",
       " ('in', 5),\n",
       " ('is', 7),\n",
       " ('the', 7)]"
      ]
     },
     "execution_count": 66,
     "metadata": {},
     "output_type": "execute_result"
    }
   ],
   "source": [
    "words = rdd_russia.flatMap(lambda x: x.split(\" \")) \\\n",
    "    .map(lambda x: (x, 1)) \\\n",
    "    .reduceByKey(lambda a, b: a + b) \\\n",
    "    .sortBy(lambda x: x[1], ascending=True) \\\n",
    "    .collect()\n",
    "words"
   ]
  },
  {
   "cell_type": "code",
   "execution_count": 67,
   "metadata": {},
   "outputs": [],
   "source": [
    "schema = 'id integer, name string, age integer, salary integer' \n",
    "data = [\n",
    "    (1, \"Ali\", 25, 4000),\n",
    "    (2, \"Mariam\", 30, 6000),\n",
    "    (3, \"Omar\", 35, 7000),\n",
    "    (4, \"Sara\", 28, 5000),\n",
    "    (5, \"Omar\", 25, 6500),\n",
    "    (6, \"Mariam\", 26, 7500)\n",
    "]\n",
    "\n",
    "df = spark.createDataFrame(data,schema)"
   ]
  },
  {
   "cell_type": "markdown",
   "metadata": {},
   "source": [
    "Show schema and first 2 rows"
   ]
  },
  {
   "cell_type": "code",
   "execution_count": 69,
   "metadata": {},
   "outputs": [
    {
     "name": "stdout",
     "output_type": "stream",
     "text": [
      "root\n",
      " |-- id: integer (nullable = true)\n",
      " |-- name: string (nullable = true)\n",
      " |-- age: integer (nullable = true)\n",
      " |-- salary: integer (nullable = true)\n",
      "\n"
     ]
    },
    {
     "data": {
      "text/plain": [
       "[Row(id=1, name='Ali', age=25, salary=4000),\n",
       " Row(id=2, name='Mariam', age=30, salary=6000)]"
      ]
     },
     "execution_count": 69,
     "metadata": {},
     "output_type": "execute_result"
    }
   ],
   "source": [
    "df.printSchema()\n",
    "df.take(2)"
   ]
  },
  {
   "cell_type": "markdown",
   "metadata": {},
   "source": [
    "Select only name and salary"
   ]
  },
  {
   "cell_type": "code",
   "execution_count": 70,
   "metadata": {},
   "outputs": [
    {
     "name": "stdout",
     "output_type": "stream",
     "text": [
      "+------+------+\n",
      "|  name|salary|\n",
      "+------+------+\n",
      "|   Ali|  4000|\n",
      "|Mariam|  6000|\n",
      "|  Omar|  7000|\n",
      "|  Sara|  5000|\n",
      "|  Omar|  6500|\n",
      "|Mariam|  7500|\n",
      "+------+------+\n",
      "\n"
     ]
    }
   ],
   "source": [
    "df.select('name', 'salary').show()"
   ]
  },
  {
   "cell_type": "markdown",
   "metadata": {},
   "source": [
    "Find the average salary"
   ]
  },
  {
   "cell_type": "code",
   "execution_count": 82,
   "metadata": {},
   "outputs": [
    {
     "name": "stdout",
     "output_type": "stream",
     "text": [
      "+----------+\n",
      "|avg_salary|\n",
      "+----------+\n",
      "|    6000.0|\n",
      "+----------+\n",
      "only showing top 1 row\n",
      "\n"
     ]
    }
   ],
   "source": [
    "avg_salary = df.agg(fun.avg('salary')).first()[0]\n",
    "df_with_avg_salary = df.withColumn('avg_salary', fun.lit(avg_salary))\n",
    "df_with_avg_salary.select('avg_salary').show(1)"
   ]
  },
  {
   "cell_type": "markdown",
   "metadata": {},
   "source": [
    "Filter employees older than 28"
   ]
  },
  {
   "cell_type": "code",
   "execution_count": 83,
   "metadata": {},
   "outputs": [
    {
     "name": "stdout",
     "output_type": "stream",
     "text": [
      "+---+------+---+------+\n",
      "| id|  name|age|salary|\n",
      "+---+------+---+------+\n",
      "|  2|Mariam| 30|  6000|\n",
      "|  3|  Omar| 35|  7000|\n",
      "|  4|  Sara| 28|  5000|\n",
      "+---+------+---+------+\n",
      "\n"
     ]
    }
   ],
   "source": [
    "df.filter(df['age'] >= 28).show()"
   ]
  },
  {
   "cell_type": "markdown",
   "metadata": {},
   "source": [
    "Count distinct values in the name column"
   ]
  },
  {
   "cell_type": "code",
   "execution_count": 84,
   "metadata": {},
   "outputs": [
    {
     "data": {
      "text/plain": [
       "4"
      ]
     },
     "execution_count": 84,
     "metadata": {},
     "output_type": "execute_result"
    }
   ],
   "source": [
    "distinct_name_count = df.select('name').distinct().count()\n",
    "distinct_name_count"
   ]
  },
  {
   "cell_type": "markdown",
   "metadata": {},
   "source": [
    "Group by a the name column and find average salary"
   ]
  },
  {
   "cell_type": "code",
   "execution_count": 87,
   "metadata": {},
   "outputs": [
    {
     "name": "stdout",
     "output_type": "stream",
     "text": [
      "+------+----------+\n",
      "|  name|avg_salary|\n",
      "+------+----------+\n",
      "|   Ali|    4000.0|\n",
      "|Mariam|    6750.0|\n",
      "|  Omar|    6750.0|\n",
      "|  Sara|    5000.0|\n",
      "+------+----------+\n",
      "\n"
     ]
    }
   ],
   "source": [
    "group_by_name = df.groupBy('name').agg(fun.avg('salary').alias('avg_salary'))\n",
    "group_by_name.show()"
   ]
  },
  {
   "cell_type": "code",
   "execution_count": null,
   "metadata": {},
   "outputs": [
    {
     "name": "stdout",
     "output_type": "stream",
     "text": [
      "+----+-----+-----+\n",
      "|  Id| Name|Sales|\n",
      "+----+-----+-----+\n",
      "|emp1| John| NULL|\n",
      "|emp2| NULL| NULL|\n",
      "|emp3| NULL|345.0|\n",
      "|emp4|Cindy|456.0|\n",
      "+----+-----+-----+\n",
      "\n"
     ]
    }
   ],
   "source": [
    "df1 = spark.read.csv(\"/shared/NullData.csv\", header=True, inferSchema=True) #this file in shared folder\n",
    "df1.show()"
   ]
  },
  {
   "cell_type": "markdown",
   "metadata": {},
   "source": [
    "Find the avg sales "
   ]
  },
  {
   "cell_type": "code",
   "execution_count": 90,
   "metadata": {},
   "outputs": [
    {
     "data": {
      "text/plain": [
       "400.5"
      ]
     },
     "execution_count": 90,
     "metadata": {},
     "output_type": "execute_result"
    }
   ],
   "source": [
    "avg_sales = df1.agg(fun.avg('Sales')).first()[0]\n",
    "avg_sales"
   ]
  },
  {
   "cell_type": "markdown",
   "metadata": {},
   "source": [
    "Replace null name with 'Unknown' and sales with the avg sales of the column "
   ]
  },
  {
   "cell_type": "code",
   "execution_count": 92,
   "metadata": {},
   "outputs": [
    {
     "name": "stdout",
     "output_type": "stream",
     "text": [
      "+----+-------+-----+\n",
      "|  Id|   Name|Sales|\n",
      "+----+-------+-----+\n",
      "|emp1|   John|400.5|\n",
      "|emp2|Unknown|400.5|\n",
      "|emp3|Unknown|345.0|\n",
      "|emp4|  Cindy|456.0|\n",
      "+----+-------+-----+\n",
      "\n"
     ]
    }
   ],
   "source": [
    "df1_filled = df1.na.fill({'Name': 'Unknown', 'Sales': avg_sales})\n",
    "df1_filled.show()"
   ]
  }
 ],
 "metadata": {
  "anaconda-cloud": {},
  "colab": {
   "provenance": []
  },
  "kernelspec": {
   "display_name": "Python 3 (ipykernel)",
   "language": "python",
   "name": "python3"
  },
  "language_info": {
   "codemirror_mode": {
    "name": "ipython",
    "version": 3
   },
   "file_extension": ".py",
   "mimetype": "text/x-python",
   "name": "python",
   "nbconvert_exporter": "python",
   "pygments_lexer": "ipython3",
   "version": "3.11.6"
  }
 },
 "nbformat": 4,
 "nbformat_minor": 0
}
